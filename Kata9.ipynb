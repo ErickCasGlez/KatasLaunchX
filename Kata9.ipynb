{
 "cells": [
  {
   "cell_type": "code",
   "execution_count": 21,
   "metadata": {},
   "outputs": [],
   "source": [
    "def reporte(tanque1, tanque2, tanque3): #se define el método con el número de valores que necesita\n",
    "    total = (tanque1 + tanque2 + tanque3)/3 #se crea un método nuevo donde se almacena el valor solicitado\n",
    "    return f\"\"\"Reporte:\n",
    "    El promedio es: {total}\"\"\""
   ]
  },
  {
   "cell_type": "code",
   "execution_count": 25,
   "metadata": {},
   "outputs": [
    {
     "name": "stdout",
     "output_type": "stream",
     "text": [
      "Reporte:\n",
      "    El promedio es: 20.0%\n"
     ]
    }
   ],
   "source": [
    "print(reporte(10,20,30))"
   ]
  },
  {
   "cell_type": "code",
   "execution_count": 23,
   "metadata": {},
   "outputs": [],
   "source": [
    "def prom (valores):\n",
    "    suma = sum(valores)\n",
    "    cantidad = len(valores)\n",
    "    return suma / cantidad"
   ]
  },
  {
   "cell_type": "code",
   "execution_count": 28,
   "metadata": {},
   "outputs": [],
   "source": [
    "def reporte(tanque1, tanque2, tanque3): #se define el método con el número de valores que necesita\n",
    "    return f\"\"\"Reporte:\n",
    "    El promedio es: {prom([tanque1, tanque2, tanque3])} %\"\"\""
   ]
  },
  {
   "cell_type": "code",
   "execution_count": 29,
   "metadata": {},
   "outputs": [
    {
     "name": "stdout",
     "output_type": "stream",
     "text": [
      "Reporte:\n",
      "    El promedio es: 20.0 %\n"
     ]
    }
   ],
   "source": [
    "print(reporte(10,20,30))"
   ]
  },
  {
   "cell_type": "code",
   "execution_count": 67,
   "metadata": {},
   "outputs": [],
   "source": [
    "def informe(horapre, tiempoVuelo, destino, TanqueExt, TanqueInt):\n",
    "    return f\"\"\"\n",
    "    Misión: {destino}\n",
    "    Tiempo total de vielo: {horapre + tiempoVuelo}\n",
    "    Queda: {TanqueExt + TanqueInt} % de cumbustible\"\"\""
   ]
  },
  {
   "cell_type": "code",
   "execution_count": 68,
   "metadata": {},
   "outputs": [
    {
     "name": "stdout",
     "output_type": "stream",
     "text": [
      "\n",
      "    Misión: Luna\n",
      "    Tiempo total de vielo: 100\n",
      "    Queda: 51 % de cumbustible\n"
     ]
    }
   ],
   "source": [
    "print(informe(15, 85, 'Luna', 25, 26))"
   ]
  },
  {
   "cell_type": "code",
   "execution_count": null,
   "metadata": {},
   "outputs": [],
   "source": [
    "def informe(destino, *minutos, **reservas):\n",
    "    return f\"\"\"\n",
    "    Misión: {destino}\n",
    "    Tiempo total de vuelo: {sum(minutos)} minutos\n",
    "    Queda: {sum(reservas.items())} % de cumbustible\"\"\"\n",
    "\n",
    "print(informe('Luna', 1, 2, 3, main=50, externo=10))"
   ]
  },
  {
   "cell_type": "code",
   "execution_count": 77,
   "metadata": {},
   "outputs": [],
   "source": [
    "def informe(destino, *minutos, **reservas):\n",
    "    informes = f\"\"\"\n",
    "    Misión: {destino}\n",
    "    Tiempo total de vuelo: {sum(minutos)} minutos\n",
    "    Queda: {sum(reservas.values())} % de cumbustible\n",
    "    \"\"\"\n",
    "\n",
    "    for tanque, litros in reservas.items():\n",
    "        informes += f\"{tanque}: Quedan {litros} litros\\n\"\n",
    "    return informes"
   ]
  },
  {
   "cell_type": "code",
   "execution_count": 78,
   "metadata": {},
   "outputs": [
    {
     "name": "stdout",
     "output_type": "stream",
     "text": [
      "\n",
      "    Misión: Luna\n",
      "    Tiempo total de vuelo: 60 minutos\n",
      "    Queda: 30 % de cumbustible\n",
      "    Int: Quedan 10 litros\n",
      "Ext: Quedan 20 litros\n",
      "\n"
     ]
    }
   ],
   "source": [
    "print(informe('Luna', 10, 20, 30, Int=10, Ext=20))"
   ]
  },
  {
   "cell_type": "code",
   "execution_count": 70,
   "metadata": {},
   "outputs": [
    {
     "name": "stdout",
     "output_type": "stream",
     "text": [
      "\n",
      "    Mission to Moon\n",
      "    Total travel time: 74 minutes\n",
      "    Total fuel left: 500000\n",
      "    main tank --> 300000 gallons left\n",
      "external tank --> 200000 gallons left\n",
      "\n"
     ]
    }
   ],
   "source": [
    "def mission_report(destination, *minutes, **fuel_reservoirs):\n",
    "    main_report = f\"\"\"\n",
    "    Mission to {destination}\n",
    "    Total travel time: {sum(minutes)} minutes\n",
    "    Total fuel left: {sum(fuel_reservoirs.values())}\n",
    "    \"\"\"\n",
    "    for tank_name, gallons in fuel_reservoirs.items():\n",
    "        main_report += f\"{tank_name} tank --> {gallons} gallons left\\n\"\n",
    "    return main_report\n",
    "\n",
    "print(mission_report(\"Moon\", 8, 11, 55, main=300000, external=200000))"
   ]
  }
 ],
 "metadata": {
  "interpreter": {
   "hash": "e52438e02ca14974981e5a46df50daa0b586527ce569749250b32677561d4583"
  },
  "kernelspec": {
   "display_name": "Python 3.10.2 64-bit",
   "language": "python",
   "name": "python3"
  },
  "language_info": {
   "codemirror_mode": {
    "name": "ipython",
    "version": 3
   },
   "file_extension": ".py",
   "mimetype": "text/x-python",
   "name": "python",
   "nbconvert_exporter": "python",
   "pygments_lexer": "ipython3",
   "version": "3.10.2"
  },
  "orig_nbformat": 4
 },
 "nbformat": 4,
 "nbformat_minor": 2
}
