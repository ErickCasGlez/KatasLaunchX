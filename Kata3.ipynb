{
 "cells": [
  {
   "cell_type": "code",
   "execution_count": 1,
   "metadata": {},
   "outputs": [
    {
     "name": "stdout",
     "output_type": "stream",
     "text": [
      "No hay peligro\n"
     ]
    }
   ],
   "source": [
    "VelAster = input(\"Velocidad del asteroide:\")\n",
    "if int(VelAster) > 25:\n",
    "    print(\"PELIGRO\")\n",
    "else:\n",
    "    print(\"No hay peligro\")"
   ]
  },
  {
   "cell_type": "code",
   "execution_count": 2,
   "metadata": {},
   "outputs": [
    {
     "name": "stdout",
     "output_type": "stream",
     "text": [
      "PELIGRO, EL CIELO SE CAE\n"
     ]
    }
   ],
   "source": [
    "VelAstero = input(\"Velocidad del asteroide:\")\n",
    "if int(VelAstero) > 20:\n",
    "    print (\"PELIGRO, EL CIELO SE CAE\")\n",
    "elif int(VelAstero) == 20:\n",
    "    print (\"PELIGRO, EL CIELO SE CAE\")\n",
    "else:\n",
    "    print (\"No hay peligro\")"
   ]
  },
  {
   "cell_type": "code",
   "execution_count": 3,
   "metadata": {},
   "outputs": [
    {
     "name": "stdout",
     "output_type": "stream",
     "text": [
      "La dimensión es: 25\n",
      "La velocidad es: 25\n",
      "PELIGRO, EL CIELO SE CAE\n"
     ]
    }
   ],
   "source": [
    "DimAster = input (\"Escriba la dimensión del asteroide:\")\n",
    "VelAstero = input(\"Velocidad del asteroide:\")\n",
    "if int(VelAstero) > 25 and int(DimAster) > 25:\n",
    "    print (\"La dimensión es:\", DimAster)\n",
    "    print (\"La velocidad es:\", VelAstero)\n",
    "    print (\"PELIGRO, EL CIELO SE CAE\")\n",
    "elif int(VelAstero) >= 20:\n",
    "    print (\"La dimensión es:\", DimAster)\n",
    "    print (\"La velocidad es:\", VelAstero)\n",
    "    print (\"PELIGRO, EL CIELO SE CAE\")\n",
    "elif int(DimAster) < 25: \n",
    "    print (\"La dimensión es:\", DimAster)\n",
    "    print (\"La velocidad es:\", VelAstero)\n",
    "    print (\"No hay peligro\")\n",
    "else:\n",
    "    print (\"La dimensión es:\", DimAster)\n",
    "    print (\"La velocidad es:\", VelAstero)\n",
    "    print (\"No hay peligro\")"
   ]
  }
 ],
 "metadata": {
  "interpreter": {
   "hash": "929af6bf831ff7f9175e74c1c0b2bbb1e8d3c8e6865733c90ab44b3ed8ef0bf3"
  },
  "kernelspec": {
   "display_name": "Python 3.10.2 64-bit",
   "language": "python",
   "name": "python3"
  },
  "language_info": {
   "codemirror_mode": {
    "name": "ipython",
    "version": 3
   },
   "file_extension": ".py",
   "mimetype": "text/x-python",
   "name": "python",
   "nbconvert_exporter": "python",
   "pygments_lexer": "ipython3",
   "version": "3.10.2"
  },
  "orig_nbformat": 4
 },
 "nbformat": 4,
 "nbformat_minor": 2
}
