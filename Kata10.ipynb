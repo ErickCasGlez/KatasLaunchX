{
 "cells": [
  {
   "cell_type": "code",
   "execution_count": 1,
   "metadata": {},
   "outputs": [
    {
     "ename": "FileNotFoundError",
     "evalue": "[Errno 2] No such file or directory: '/path/to/mars.jpg'",
     "output_type": "error",
     "traceback": [
      "\u001b[1;31m---------------------------------------------------------------------------\u001b[0m",
      "\u001b[1;31mFileNotFoundError\u001b[0m                         Traceback (most recent call last)",
      "\u001b[1;32md:\\Documentos\\Codigo\\python\\LaunchX\\Katas\\Kata10.ipynb Cell 1'\u001b[0m in \u001b[0;36m<module>\u001b[1;34m\u001b[0m\n\u001b[1;32m----> <a href='vscode-notebook-cell:/d%3A/Documentos/Codigo/python/LaunchX/Katas/Kata10.ipynb#ch0000000?line=0'>1</a>\u001b[0m \u001b[39mopen\u001b[39;49m(\u001b[39m\"\u001b[39;49m\u001b[39m/path/to/mars.jpg\u001b[39;49m\u001b[39m\"\u001b[39;49m)\n",
      "\u001b[1;31mFileNotFoundError\u001b[0m: [Errno 2] No such file or directory: '/path/to/mars.jpg'"
     ]
    }
   ],
   "source": [
    "open(\"/path/to/mars.jpg\")"
   ]
  },
  {
   "cell_type": "code",
   "execution_count": 2,
   "metadata": {},
   "outputs": [
    {
     "ename": "FileNotFoundError",
     "evalue": "[Errno 2] No such file or directory: '/path/to/mars.jpg'",
     "output_type": "error",
     "traceback": [
      "\u001b[1;31m---------------------------------------------------------------------------\u001b[0m",
      "\u001b[1;31mFileNotFoundError\u001b[0m                         Traceback (most recent call last)",
      "\u001b[1;32md:\\Documentos\\Codigo\\python\\LaunchX\\Katas\\Kata10.ipynb Cell 2'\u001b[0m in \u001b[0;36m<module>\u001b[1;34m\u001b[0m\n\u001b[0;32m      <a href='vscode-notebook-cell:/d%3A/Documentos/Codigo/python/LaunchX/Katas/Kata10.ipynb#ch0000001?line=1'>2</a>\u001b[0m     \u001b[39mopen\u001b[39m(\u001b[39m\"\u001b[39m\u001b[39m/path/to/mars.jpg\u001b[39m\u001b[39m\"\u001b[39m)\n\u001b[0;32m      <a href='vscode-notebook-cell:/d%3A/Documentos/Codigo/python/LaunchX/Katas/Kata10.ipynb#ch0000001?line=2'>3</a>\u001b[0m \u001b[39mif\u001b[39;00m \u001b[39m__name__\u001b[39m \u001b[39m==\u001b[39m \u001b[39m'\u001b[39m\u001b[39m__main__\u001b[39m\u001b[39m'\u001b[39m:\n\u001b[1;32m----> <a href='vscode-notebook-cell:/d%3A/Documentos/Codigo/python/LaunchX/Katas/Kata10.ipynb#ch0000001?line=3'>4</a>\u001b[0m     main()\n",
      "\u001b[1;32md:\\Documentos\\Codigo\\python\\LaunchX\\Katas\\Kata10.ipynb Cell 2'\u001b[0m in \u001b[0;36mmain\u001b[1;34m()\u001b[0m\n\u001b[0;32m      <a href='vscode-notebook-cell:/d%3A/Documentos/Codigo/python/LaunchX/Katas/Kata10.ipynb#ch0000001?line=0'>1</a>\u001b[0m \u001b[39mdef\u001b[39;00m \u001b[39mmain\u001b[39m():\n\u001b[1;32m----> <a href='vscode-notebook-cell:/d%3A/Documentos/Codigo/python/LaunchX/Katas/Kata10.ipynb#ch0000001?line=1'>2</a>\u001b[0m     \u001b[39mopen\u001b[39;49m(\u001b[39m\"\u001b[39;49m\u001b[39m/path/to/mars.jpg\u001b[39;49m\u001b[39m\"\u001b[39;49m)\n",
      "\u001b[1;31mFileNotFoundError\u001b[0m: [Errno 2] No such file or directory: '/path/to/mars.jpg'"
     ]
    }
   ],
   "source": [
    "def main():\n",
    "    open(\"/path/to/mars.jpg\")\n",
    "if __name__ == '__main__':\n",
    "    main()"
   ]
  },
  {
   "cell_type": "code",
   "execution_count": 3,
   "metadata": {},
   "outputs": [
    {
     "name": "stdout",
     "output_type": "stream",
     "text": [
      "Hjole, no se pudo\n"
     ]
    }
   ],
   "source": [
    "try:\n",
    "    open('config.txt')\n",
    "except FileNotFoundError:\n",
    "    print('Hjole, no se pudo')"
   ]
  },
  {
   "cell_type": "code",
   "execution_count": 4,
   "metadata": {},
   "outputs": [
    {
     "name": "stdout",
     "output_type": "stream",
     "text": [
      "No existe el archivo\n"
     ]
    }
   ],
   "source": [
    "def main():\n",
    "    try:\n",
    "        configuration = open('config.txt')\n",
    "    except FileNotFoundError:\n",
    "        print(\"No existe el archivo\")\n",
    "\n",
    "if __name__ == '__main__':\n",
    "    main()"
   ]
  },
  {
   "cell_type": "code",
   "execution_count": 6,
   "metadata": {},
   "outputs": [],
   "source": [
    "def main():\n",
    "    try:\n",
    "        configuration = open('config,txt')\n",
    "    except Exception:\n",
    "        print('No se puede abrir')"
   ]
  },
  {
   "cell_type": "code",
   "execution_count": 7,
   "metadata": {},
   "outputs": [],
   "source": [
    "def main():\n",
    "    try:\n",
    "        configuration = open('config,txt')\n",
    "    except FileNotFoundError:\n",
    "        print('No se encuentra')\n",
    "    except IsADirectoryError:\n",
    "        print('Se encontró, pero no se puede abrir')"
   ]
  },
  {
   "cell_type": "code",
   "execution_count": 8,
   "metadata": {},
   "outputs": [],
   "source": [
    "def main():\n",
    "    try:\n",
    "        configuration = open('config.txt')\n",
    "    except FileNotFoundError:\n",
    "        print('No se pudo abrir')\n",
    "    except IsADirectoryError:\n",
    "        print(\"Se encontró, pero no se puede abrir\")\n",
    "    except (BlockingIOError, TimeoutError):\n",
    "        print(\"Ahorita no dr puede abrir, intente después\")"
   ]
  },
  {
   "cell_type": "code",
   "execution_count": 9,
   "metadata": {},
   "outputs": [
    {
     "name": "stdout",
     "output_type": "stream",
     "text": [
      "Parece que existe un problema [Errno 2] No such file or directory: 'mars.jpg'\n"
     ]
    }
   ],
   "source": [
    "try: \n",
    "    open(\"mars.jpg\")\n",
    "except FileNotFoundError as err:\n",
    "    print(\"Parece que existe un problema\", err)"
   ]
  },
  {
   "cell_type": "code",
   "execution_count": 12,
   "metadata": {},
   "outputs": [
    {
     "name": "stdout",
     "output_type": "stream",
     "text": [
      "No se encuentra ese archivo\n"
     ]
    }
   ],
   "source": [
    "try:\n",
    "    open('config.txt')\n",
    "except OSError as err:\n",
    "    if err.errno == 2:\n",
    "        print(\"No se encuentra ese archivo\")\n",
    "    elif err.errno == 13:\n",
    "        print(\"Se encuentra pero no se puede leer\")"
   ]
  },
  {
   "cell_type": "code",
   "execution_count": 13,
   "metadata": {},
   "outputs": [],
   "source": [
    "def aguaRestante(atronauta, aguaRestante, diasRestantes):\n",
    "    UsoDiario = atronauta * 11\n",
    "    UsoTotal = UsoDiario * diasRestantes\n",
    "    TotalAgua = aguaRestante - UsoTotal\n",
    "    return f'El total del agua después de {diasRestantes} días es {TotalAgua} litros'"
   ]
  },
  {
   "cell_type": "code",
   "execution_count": 16,
   "metadata": {},
   "outputs": [
    {
     "ename": "RuntimeError",
     "evalue": "No hay suficiente agua para 5 astronautas después de 2 días",
     "output_type": "error",
     "traceback": [
      "\u001b[1;31m---------------------------------------------------------------------------\u001b[0m",
      "\u001b[1;31mRuntimeError\u001b[0m                              Traceback (most recent call last)",
      "\u001b[1;32md:\\Documentos\\Codigo\\python\\LaunchX\\Katas\\Kata10.ipynb Cell 11'\u001b[0m in \u001b[0;36m<module>\u001b[1;34m\u001b[0m\n\u001b[1;32m----> <a href='vscode-notebook-cell:/d%3A/Documentos/Codigo/python/LaunchX/Katas/Kata10.ipynb#ch0000011?line=0'>1</a>\u001b[0m aguaRestante(\u001b[39m5\u001b[39;49m, \u001b[39m100\u001b[39;49m, \u001b[39m2\u001b[39;49m)\n",
      "\u001b[1;32md:\\Documentos\\Codigo\\python\\LaunchX\\Katas\\Kata10.ipynb Cell 12'\u001b[0m in \u001b[0;36maguaRestante\u001b[1;34m(atronauta, aguaRestante, diasRestantes)\u001b[0m\n\u001b[0;32m      <a href='vscode-notebook-cell:/d%3A/Documentos/Codigo/python/LaunchX/Katas/Kata10.ipynb#ch0000012?line=3'>4</a>\u001b[0m TotalAgua \u001b[39m=\u001b[39m aguaRestante \u001b[39m-\u001b[39m UsoTotal\n\u001b[0;32m      <a href='vscode-notebook-cell:/d%3A/Documentos/Codigo/python/LaunchX/Katas/Kata10.ipynb#ch0000012?line=4'>5</a>\u001b[0m \u001b[39mif\u001b[39;00m TotalAgua \u001b[39m<\u001b[39m \u001b[39m0\u001b[39m:\n\u001b[1;32m----> <a href='vscode-notebook-cell:/d%3A/Documentos/Codigo/python/LaunchX/Katas/Kata10.ipynb#ch0000012?line=5'>6</a>\u001b[0m     \u001b[39mraise\u001b[39;00m \u001b[39mRuntimeError\u001b[39;00m(\u001b[39mf\u001b[39m\u001b[39m'\u001b[39m\u001b[39mNo hay suficiente agua para \u001b[39m\u001b[39m{\u001b[39;00matronauta\u001b[39m}\u001b[39;00m\u001b[39m astronautas después de \u001b[39m\u001b[39m{\u001b[39;00mdiasRestantes\u001b[39m}\u001b[39;00m\u001b[39m días\u001b[39m\u001b[39m'\u001b[39m)\n\u001b[0;32m      <a href='vscode-notebook-cell:/d%3A/Documentos/Codigo/python/LaunchX/Katas/Kata10.ipynb#ch0000012?line=6'>7</a>\u001b[0m \u001b[39mreturn\u001b[39;00m \u001b[39mf\u001b[39m\u001b[39m'\u001b[39m\u001b[39mEl total del agua después de \u001b[39m\u001b[39m{\u001b[39;00mdiasRestantes\u001b[39m}\u001b[39;00m\u001b[39m días es \u001b[39m\u001b[39m{\u001b[39;00mTotalAgua\u001b[39m}\u001b[39;00m\u001b[39m litros\u001b[39m\u001b[39m'\u001b[39m\n",
      "\u001b[1;31mRuntimeError\u001b[0m: No hay suficiente agua para 5 astronautas después de 2 días"
     ]
    }
   ],
   "source": [
    "aguaRestante(5, 100, 2)"
   ]
  },
  {
   "cell_type": "code",
   "execution_count": 15,
   "metadata": {},
   "outputs": [],
   "source": [
    "def aguaRestante(atronauta, aguaRestante, diasRestantes):\n",
    "    UsoDiario = atronauta * 11\n",
    "    UsoTotal = UsoDiario * diasRestantes\n",
    "    TotalAgua = aguaRestante - UsoTotal\n",
    "    if TotalAgua < 0:\n",
    "        raise RuntimeError(f'No hay suficiente agua para {atronauta} astronautas después de {diasRestantes} días')\n",
    "    return f'El total del agua después de {diasRestantes} días es {TotalAgua} litros'"
   ]
  },
  {
   "cell_type": "code",
   "execution_count": null,
   "metadata": {},
   "outputs": [],
   "source": [
    " 0:\n",
    "        raise RuntimeError(f'No hay suficiente agua para {atronauta} astronautas después de {diasRestantes} días')\n",
    "    return f'El total del agua después de {diasRestantes} días es {TotalAgua} litros'"
   ]
  },
  {
   "cell_type": "code",
   "execution_count": 18,
   "metadata": {},
   "outputs": [
    {
     "ename": "RuntimeError",
     "evalue": "No hay suficiente agua para 5 astronautas después de 2 días",
     "output_type": "error",
     "traceback": [
      "\u001b[1;31m---------------------------------------------------------------------------\u001b[0m",
      "\u001b[1;31mRuntimeError\u001b[0m                              Traceback (most recent call last)",
      "\u001b[1;32md:\\Documentos\\Codigo\\python\\LaunchX\\Katas\\Kata10.ipynb Cell 13'\u001b[0m in \u001b[0;36m<module>\u001b[1;34m\u001b[0m\n\u001b[1;32m----> <a href='vscode-notebook-cell:/d%3A/Documentos/Codigo/python/LaunchX/Katas/Kata10.ipynb#ch0000014?line=0'>1</a>\u001b[0m aguaRestante(\u001b[39m5\u001b[39;49m, \u001b[39m100\u001b[39;49m, \u001b[39m2\u001b[39;49m)\n",
      "\u001b[1;32md:\\Documentos\\Codigo\\python\\LaunchX\\Katas\\Kata10.ipynb Cell 12'\u001b[0m in \u001b[0;36maguaRestante\u001b[1;34m(atronauta, aguaRestante, diasRestantes)\u001b[0m\n\u001b[0;32m      <a href='vscode-notebook-cell:/d%3A/Documentos/Codigo/python/LaunchX/Katas/Kata10.ipynb#ch0000012?line=3'>4</a>\u001b[0m TotalAgua \u001b[39m=\u001b[39m aguaRestante \u001b[39m-\u001b[39m UsoTotal\n\u001b[0;32m      <a href='vscode-notebook-cell:/d%3A/Documentos/Codigo/python/LaunchX/Katas/Kata10.ipynb#ch0000012?line=4'>5</a>\u001b[0m \u001b[39mif\u001b[39;00m TotalAgua \u001b[39m<\u001b[39m \u001b[39m0\u001b[39m:\n\u001b[1;32m----> <a href='vscode-notebook-cell:/d%3A/Documentos/Codigo/python/LaunchX/Katas/Kata10.ipynb#ch0000012?line=5'>6</a>\u001b[0m     \u001b[39mraise\u001b[39;00m \u001b[39mRuntimeError\u001b[39;00m(\u001b[39mf\u001b[39m\u001b[39m'\u001b[39m\u001b[39mNo hay suficiente agua para \u001b[39m\u001b[39m{\u001b[39;00matronauta\u001b[39m}\u001b[39;00m\u001b[39m astronautas después de \u001b[39m\u001b[39m{\u001b[39;00mdiasRestantes\u001b[39m}\u001b[39;00m\u001b[39m días\u001b[39m\u001b[39m'\u001b[39m)\n\u001b[0;32m      <a href='vscode-notebook-cell:/d%3A/Documentos/Codigo/python/LaunchX/Katas/Kata10.ipynb#ch0000012?line=6'>7</a>\u001b[0m \u001b[39mreturn\u001b[39;00m \u001b[39mf\u001b[39m\u001b[39m'\u001b[39m\u001b[39mEl total del agua después de \u001b[39m\u001b[39m{\u001b[39;00mdiasRestantes\u001b[39m}\u001b[39;00m\u001b[39m días es \u001b[39m\u001b[39m{\u001b[39;00mTotalAgua\u001b[39m}\u001b[39;00m\u001b[39m litros\u001b[39m\u001b[39m'\u001b[39m\n",
      "\u001b[1;31mRuntimeError\u001b[0m: No hay suficiente agua para 5 astronautas después de 2 días"
     ]
    }
   ],
   "source": [
    "aguaRestante(5, 100, 2)"
   ]
  },
  {
   "cell_type": "code",
   "execution_count": null,
   "metadata": {},
   "outputs": [],
   "source": [
    "try: \n",
    "    aguaRestante(5, 100, 2)\n",
    "except RuntimeError as err:\n",
    "    Alerta(err)"
   ]
  },
  {
   "cell_type": "code",
   "execution_count": 20,
   "metadata": {},
   "outputs": [
    {
     "ename": "TypeError",
     "evalue": "can't multiply sequence by non-int of type 'NoneType'",
     "output_type": "error",
     "traceback": [
      "\u001b[1;31m---------------------------------------------------------------------------\u001b[0m",
      "\u001b[1;31mTypeError\u001b[0m                                 Traceback (most recent call last)",
      "\u001b[1;32md:\\Documentos\\Codigo\\python\\LaunchX\\Katas\\Kata10.ipynb Cell 15'\u001b[0m in \u001b[0;36m<module>\u001b[1;34m\u001b[0m\n\u001b[1;32m----> <a href='vscode-notebook-cell:/d%3A/Documentos/Codigo/python/LaunchX/Katas/Kata10.ipynb#ch0000015?line=0'>1</a>\u001b[0m aguaRestante(\u001b[39m'\u001b[39;49m\u001b[39m3\u001b[39;49m\u001b[39m'\u001b[39;49m, \u001b[39m'\u001b[39;49m\u001b[39m200\u001b[39;49m\u001b[39m'\u001b[39;49m, \u001b[39mNone\u001b[39;49;00m)\n",
      "\u001b[1;32md:\\Documentos\\Codigo\\python\\LaunchX\\Katas\\Kata10.ipynb Cell 12'\u001b[0m in \u001b[0;36maguaRestante\u001b[1;34m(atronauta, aguaRestante, diasRestantes)\u001b[0m\n\u001b[0;32m      <a href='vscode-notebook-cell:/d%3A/Documentos/Codigo/python/LaunchX/Katas/Kata10.ipynb#ch0000012?line=0'>1</a>\u001b[0m \u001b[39mdef\u001b[39;00m \u001b[39maguaRestante\u001b[39m(atronauta, aguaRestante, diasRestantes):\n\u001b[0;32m      <a href='vscode-notebook-cell:/d%3A/Documentos/Codigo/python/LaunchX/Katas/Kata10.ipynb#ch0000012?line=1'>2</a>\u001b[0m     UsoDiario \u001b[39m=\u001b[39m atronauta \u001b[39m*\u001b[39m \u001b[39m11\u001b[39m\n\u001b[1;32m----> <a href='vscode-notebook-cell:/d%3A/Documentos/Codigo/python/LaunchX/Katas/Kata10.ipynb#ch0000012?line=2'>3</a>\u001b[0m     UsoTotal \u001b[39m=\u001b[39m UsoDiario \u001b[39m*\u001b[39;49m diasRestantes\n\u001b[0;32m      <a href='vscode-notebook-cell:/d%3A/Documentos/Codigo/python/LaunchX/Katas/Kata10.ipynb#ch0000012?line=3'>4</a>\u001b[0m     TotalAgua \u001b[39m=\u001b[39m aguaRestante \u001b[39m-\u001b[39m UsoTotal\n\u001b[0;32m      <a href='vscode-notebook-cell:/d%3A/Documentos/Codigo/python/LaunchX/Katas/Kata10.ipynb#ch0000012?line=4'>5</a>\u001b[0m     \u001b[39mif\u001b[39;00m TotalAgua \u001b[39m<\u001b[39m \u001b[39m0\u001b[39m:\n",
      "\u001b[1;31mTypeError\u001b[0m: can't multiply sequence by non-int of type 'NoneType'"
     ]
    }
   ],
   "source": [
    "aguaRestante('3', '200', None)"
   ]
  },
  {
   "cell_type": "code",
   "execution_count": 23,
   "metadata": {},
   "outputs": [],
   "source": [
    "def aguaRestante(atronauta, aguaRestante, diasRestantes):\n",
    "    for argument in [atronauta, aguaRestante, diasRestantes]:\n",
    "        try:\n",
    "            argument / 10\n",
    "        except TypeError:\n",
    "            raise TypeError(f'Todos los argumentos deben ser de tipo entero, se recibió {argument}')\n",
    "    UsoDiario = atronauta * 11\n",
    "    UsoTotal = UsoDiario * diasRestantes\n",
    "    TotalAgua = aguaRestante - UsoTotal\n",
    "    if TotalAgua < 0:\n",
    "        raise RuntimeError(f'No hay suficiente agua para {atronauta} astronautas después de {diasRestantes} días')\n",
    "    return f'El total del agua después de {diasRestantes} días es {TotalAgua} litros'"
   ]
  },
  {
   "cell_type": "code",
   "execution_count": 25,
   "metadata": {},
   "outputs": [
    {
     "ename": "TypeError",
     "evalue": "Todos los argumentos deben ser de tipo entero, se recibió 3",
     "output_type": "error",
     "traceback": [
      "\u001b[1;31m---------------------------------------------------------------------------\u001b[0m",
      "\u001b[1;31mTypeError\u001b[0m                                 Traceback (most recent call last)",
      "\u001b[1;32md:\\Documentos\\Codigo\\python\\LaunchX\\Katas\\Kata10.ipynb Cell 17'\u001b[0m in \u001b[0;36maguaRestante\u001b[1;34m(atronauta, aguaRestante, diasRestantes)\u001b[0m\n\u001b[0;32m      <a href='vscode-notebook-cell:/d%3A/Documentos/Codigo/python/LaunchX/Katas/Kata10.ipynb#ch0000017?line=2'>3</a>\u001b[0m \u001b[39mtry\u001b[39;00m:\n\u001b[1;32m----> <a href='vscode-notebook-cell:/d%3A/Documentos/Codigo/python/LaunchX/Katas/Kata10.ipynb#ch0000017?line=3'>4</a>\u001b[0m     argument \u001b[39m/\u001b[39;49m \u001b[39m10\u001b[39;49m\n\u001b[0;32m      <a href='vscode-notebook-cell:/d%3A/Documentos/Codigo/python/LaunchX/Katas/Kata10.ipynb#ch0000017?line=4'>5</a>\u001b[0m \u001b[39mexcept\u001b[39;00m \u001b[39mTypeError\u001b[39;00m:\n",
      "\u001b[1;31mTypeError\u001b[0m: unsupported operand type(s) for /: 'str' and 'int'",
      "\nDuring handling of the above exception, another exception occurred:\n",
      "\u001b[1;31mTypeError\u001b[0m                                 Traceback (most recent call last)",
      "\u001b[1;32md:\\Documentos\\Codigo\\python\\LaunchX\\Katas\\Kata10.ipynb Cell 18'\u001b[0m in \u001b[0;36m<module>\u001b[1;34m\u001b[0m\n\u001b[1;32m----> <a href='vscode-notebook-cell:/d%3A/Documentos/Codigo/python/LaunchX/Katas/Kata10.ipynb#ch0000018?line=0'>1</a>\u001b[0m aguaRestante(\u001b[39m'\u001b[39;49m\u001b[39m3\u001b[39;49m\u001b[39m'\u001b[39;49m, \u001b[39m'\u001b[39;49m\u001b[39m200\u001b[39;49m\u001b[39m'\u001b[39;49m, \u001b[39mNone\u001b[39;49;00m)\n",
      "\u001b[1;32md:\\Documentos\\Codigo\\python\\LaunchX\\Katas\\Kata10.ipynb Cell 17'\u001b[0m in \u001b[0;36maguaRestante\u001b[1;34m(atronauta, aguaRestante, diasRestantes)\u001b[0m\n\u001b[0;32m      <a href='vscode-notebook-cell:/d%3A/Documentos/Codigo/python/LaunchX/Katas/Kata10.ipynb#ch0000017?line=3'>4</a>\u001b[0m         argument \u001b[39m/\u001b[39m \u001b[39m10\u001b[39m\n\u001b[0;32m      <a href='vscode-notebook-cell:/d%3A/Documentos/Codigo/python/LaunchX/Katas/Kata10.ipynb#ch0000017?line=4'>5</a>\u001b[0m     \u001b[39mexcept\u001b[39;00m \u001b[39mTypeError\u001b[39;00m:\n\u001b[1;32m----> <a href='vscode-notebook-cell:/d%3A/Documentos/Codigo/python/LaunchX/Katas/Kata10.ipynb#ch0000017?line=5'>6</a>\u001b[0m         \u001b[39mraise\u001b[39;00m \u001b[39mTypeError\u001b[39;00m(\u001b[39mf\u001b[39m\u001b[39m'\u001b[39m\u001b[39mTodos los argumentos deben ser de tipo entero, se recibió \u001b[39m\u001b[39m{\u001b[39;00margument\u001b[39m}\u001b[39;00m\u001b[39m'\u001b[39m)\n\u001b[0;32m      <a href='vscode-notebook-cell:/d%3A/Documentos/Codigo/python/LaunchX/Katas/Kata10.ipynb#ch0000017?line=6'>7</a>\u001b[0m UsoDiario \u001b[39m=\u001b[39m atronauta \u001b[39m*\u001b[39m \u001b[39m11\u001b[39m\n\u001b[0;32m      <a href='vscode-notebook-cell:/d%3A/Documentos/Codigo/python/LaunchX/Katas/Kata10.ipynb#ch0000017?line=7'>8</a>\u001b[0m UsoTotal \u001b[39m=\u001b[39m UsoDiario \u001b[39m*\u001b[39m diasRestantes\n",
      "\u001b[1;31mTypeError\u001b[0m: Todos los argumentos deben ser de tipo entero, se recibió 3"
     ]
    }
   ],
   "source": [
    "aguaRestante('3', '200', None)"
   ]
  }
 ],
 "metadata": {
  "interpreter": {
   "hash": "929af6bf831ff7f9175e74c1c0b2bbb1e8d3c8e6865733c90ab44b3ed8ef0bf3"
  },
  "kernelspec": {
   "display_name": "Python 3.10.2 64-bit",
   "language": "python",
   "name": "python3"
  },
  "language_info": {
   "codemirror_mode": {
    "name": "ipython",
    "version": 3
   },
   "file_extension": ".py",
   "mimetype": "text/x-python",
   "name": "python",
   "nbconvert_exporter": "python",
   "pygments_lexer": "ipython3",
   "version": "3.10.2"
  },
  "orig_nbformat": 4
 },
 "nbformat": 4,
 "nbformat_minor": 2
}
