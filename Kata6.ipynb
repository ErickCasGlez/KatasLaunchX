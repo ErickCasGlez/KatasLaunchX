{
 "cells": [
  {
   "cell_type": "code",
   "execution_count": 1,
   "metadata": {},
   "outputs": [
    {
     "name": "stdout",
     "output_type": "stream",
     "text": [
      "['Mercury', 'Venus', 'Earth', 'Mars', 'Jupiter', 'Saturn', 'Uranus', 'Neptune']\n"
     ]
    }
   ],
   "source": [
    "planets = ['Mercury', 'Venus', 'Earth', 'Mars', 'Jupiter', 'Saturn', 'Uranus', 'Neptune']\n",
    "print(planets)"
   ]
  },
  {
   "cell_type": "code",
   "execution_count": 2,
   "metadata": {},
   "outputs": [
    {
     "name": "stdout",
     "output_type": "stream",
     "text": [
      "9 ,  Plutón\n"
     ]
    }
   ],
   "source": [
    "planets.append('Plutón')\n",
    "print(len(planets), ', ', planets[-1])"
   ]
  },
  {
   "cell_type": "code",
   "execution_count": 3,
   "metadata": {},
   "outputs": [
    {
     "name": "stdout",
     "output_type": "stream",
     "text": [
      "['Mercury', 'Venus', 'Earth', 'Mars', 'Jupiter', 'Saturn', 'Uranus', 'Neptune', 'Plutón', 'Hola']\n",
      "El Planeta agregado es el 10\n"
     ]
    }
   ],
   "source": [
    "PlanetNuevo = input('Planeta nuevo: (Recuerda empezar con una Mayúscula)')\n",
    "planets.append(PlanetNuevo)\n",
    "planeta_nuevo = planets.index(PlanetNuevo)\n",
    "print(planets)\n",
    "print('El Planeta agregado es el', planeta_nuevo + 1)"
   ]
  },
  {
   "cell_type": "code",
   "execution_count": 4,
   "metadata": {},
   "outputs": [
    {
     "name": "stdout",
     "output_type": "stream",
     "text": [
      "Más cerca al Sol: Hola\n",
      "['Mercury', 'Venus', 'Earth', 'Mars', 'Jupiter', 'Saturn', 'Uranus', 'Neptune', 'Plutón']\n"
     ]
    }
   ],
   "source": [
    "print('Más cerca al Sol: ' + PlanetNuevo)\n",
    "print(planets[0:planeta_nuevo])"
   ]
  },
  {
   "cell_type": "code",
   "execution_count": 5,
   "metadata": {},
   "outputs": [
    {
     "name": "stdout",
     "output_type": "stream",
     "text": [
      "Más lejano al Sol: Hola\n",
      "[]\n"
     ]
    }
   ],
   "source": [
    "print('Más lejano al Sol: ' + PlanetNuevo)\n",
    "print(planets[planeta_nuevo + 1:])"
   ]
  }
 ],
 "metadata": {
  "interpreter": {
   "hash": "929af6bf831ff7f9175e74c1c0b2bbb1e8d3c8e6865733c90ab44b3ed8ef0bf3"
  },
  "kernelspec": {
   "display_name": "Python 3.10.2 64-bit",
   "language": "python",
   "name": "python3"
  },
  "language_info": {
   "codemirror_mode": {
    "name": "ipython",
    "version": 3
   },
   "file_extension": ".py",
   "mimetype": "text/x-python",
   "name": "python",
   "nbconvert_exporter": "python",
   "pygments_lexer": "ipython3",
   "version": "3.10.2"
  },
  "orig_nbformat": 4
 },
 "nbformat": 4,
 "nbformat_minor": 2
}
