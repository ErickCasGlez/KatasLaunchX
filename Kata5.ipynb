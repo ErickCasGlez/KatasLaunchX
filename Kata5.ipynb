{
 "cells": [
  {
   "cell_type": "code",
   "execution_count": 1,
   "metadata": {},
   "outputs": [],
   "source": [
    "Tierra = float(149597870)\n",
    "Jupiter = float(778547200)"
   ]
  },
  {
   "cell_type": "code",
   "execution_count": 2,
   "metadata": {},
   "outputs": [
    {
     "name": "stdout",
     "output_type": "stream",
     "text": [
      "628949330\n"
     ]
    }
   ],
   "source": [
    "distancia = round(abs(Tierra - Jupiter))\n",
    "print(distancia)"
   ]
  },
  {
   "cell_type": "code",
   "execution_count": 3,
   "metadata": {},
   "outputs": [
    {
     "name": "stdout",
     "output_type": "stream",
     "text": [
      "390577534\n"
     ]
    }
   ],
   "source": [
    "milla = round(distancia * .621)\n",
    "print(milla)"
   ]
  },
  {
   "cell_type": "code",
   "execution_count": 4,
   "metadata": {},
   "outputs": [
    {
     "name": "stdout",
     "output_type": "stream",
     "text": [
      "0.0\n"
     ]
    }
   ],
   "source": [
    "numero1 = input('¿Cuál es la distancia al Sol del planeta 1 en km?')\n",
    "numero2 = input('¿Cuál es la distancia al Sol del planeta 2 en km?')\n",
    "dist = (int(numero1) - int(numero2)) * .621\n",
    "print(abs(dist))"
   ]
  }
 ],
 "metadata": {
  "interpreter": {
   "hash": "929af6bf831ff7f9175e74c1c0b2bbb1e8d3c8e6865733c90ab44b3ed8ef0bf3"
  },
  "kernelspec": {
   "display_name": "Python 3.10.2 64-bit",
   "language": "python",
   "name": "python3"
  },
  "language_info": {
   "codemirror_mode": {
    "name": "ipython",
    "version": 3
   },
   "file_extension": ".py",
   "mimetype": "text/x-python",
   "name": "python",
   "nbconvert_exporter": "python",
   "pygments_lexer": "ipython3",
   "version": "3.10.2"
  },
  "orig_nbformat": 4
 },
 "nbformat": 4,
 "nbformat_minor": 2
}
